{
 "cells": [
  {
   "cell_type": "markdown",
   "metadata": {},
   "source": [
    "Distance Calculator"
   ]
  },
  {
   "cell_type": "code",
   "execution_count": null,
   "metadata": {},
   "outputs": [],
   "source": [
    "#Distance Calculator\n",
    "import math\n",
    "\n",
    "def calculate(x1, y1, x2, y2):\n",
    "    return math.sqrt((x2-x1)**2 + (y2-y1)**2)\n",
    "\n",
    "def main():\n",
    "    print(\"WELCOME TO THE DISTANCE CALCULATOR!\")\n",
    "\n",
    "    x1 = float(input(\"Enter X1 Value: \"))\n",
    "    y1 = float(input(\"Enter Y1 Value: \"))\n",
    "    x2 = float(input(\"Enter X2 Value: \"))\n",
    "    y2 = float(input(\"Enter Y2 Value: \"))\n",
    "\n",
    "    print(f\"Distance between the two points is {calculate(x1,y1,x2,y2)}\")\n",
    "\n",
    "main()"
   ]
  }
 ],
 "metadata": {
  "kernelspec": {
   "display_name": "Python 3",
   "language": "python",
   "name": "python3"
  },
  "language_info": {
   "codemirror_mode": {
    "name": "ipython",
    "version": 3
   },
   "file_extension": ".py",
   "mimetype": "text/x-python",
   "name": "python",
   "nbconvert_exporter": "python",
   "pygments_lexer": "ipython3",
   "version": "3.11.0"
  },
  "orig_nbformat": 4,
  "vscode": {
   "interpreter": {
    "hash": "5238573367df39f7286bb46f9ff5f08f63a01a80960060ce41e3c79b190280fa"
   }
  }
 },
 "nbformat": 4,
 "nbformat_minor": 2
}
